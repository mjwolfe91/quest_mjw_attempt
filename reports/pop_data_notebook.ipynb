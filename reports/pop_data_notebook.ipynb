{
 "cells": [
  {
   "cell_type": "code",
   "execution_count": 1,
   "id": "acae7715",
   "metadata": {},
   "outputs": [],
   "source": [
    "# imports/setup\n",
    "\n",
    "import s3fs\n",
    "import boto3\n",
    "import json\n",
    "import pandas as pd\n",
    "from IPython.display import display\n",
    "\n",
    "s3 = boto3.client('s3')"
   ]
  },
  {
   "cell_type": "code",
   "execution_count": 2,
   "id": "b22cf4d7",
   "metadata": {},
   "outputs": [
    {
     "name": "stderr",
     "output_type": "stream",
     "text": [
      "/home/ec2-user/anaconda3/envs/python3/lib/python3.10/site-packages/fsspec/registry.py:275: UserWarning: Your installed version of s3fs is very old and known to cause\n",
      "severe performance issues, see also https://github.com/dask/dask/issues/10276\n",
      "\n",
      "To fix, you should specify a lower version bound on s3fs, or\n",
      "update the current installation.\n",
      "\n",
      "  warnings.warn(s3_msg)\n"
     ]
    }
   ],
   "source": [
    "# read data\n",
    "\n",
    "df_pr = pd.read_csv('s3://mjw-cloudquest-bls-data/pr_data_0_Current', delimiter='\\t')\n",
    "df_pr = df_pr.rename(columns=lambda x: x.strip()) # whitespace in column names!!\n",
    "\n",
    "pop_raw = s3.get_object(Bucket='mjw-cloudquest-bls-data', Key='pop_data/2024-05-29T00-35-33Z/data.json')\n",
    "pop_data = json.loads(pop_raw['Body'].read().decode('utf-8'))\n",
    "df_pop = pd.DataFrame(pop_data['data'])"
   ]
  },
  {
   "cell_type": "code",
   "execution_count": 3,
   "id": "df7bcecb",
   "metadata": {},
   "outputs": [
    {
     "name": "stdout",
     "output_type": "stream",
     "text": [
      "The mean of the populations from 2013 to 2018 is 317437383.0\n",
      "The standard deviation of the populations from 2013 to 2018 is 4257089.5415293295\n"
     ]
    }
   ],
   "source": [
    "# Using the dataframe from the population data API (Part 2), generate the mean \n",
    "# and the standard deviation of the annual US population across the years [2013, 2018] inclusive.\n",
    "df_pop_filtered = df_pop[df_pop['ID Year'] < 2019]\n",
    "print(f\"The mean of the populations from 2013 to 2018 is {df_pop_filtered['Population'].mean()}\")\n",
    "print(f\"The standard deviation of the populations from 2013 to 2018 is {df_pop_filtered['Population'].std()}\")"
   ]
  },
  {
   "cell_type": "code",
   "execution_count": 4,
   "id": "bc654715",
   "metadata": {},
   "outputs": [
    {
     "data": {
      "text/html": [
       "<div>\n",
       "<style scoped>\n",
       "    .dataframe tbody tr th:only-of-type {\n",
       "        vertical-align: middle;\n",
       "    }\n",
       "\n",
       "    .dataframe tbody tr th {\n",
       "        vertical-align: top;\n",
       "    }\n",
       "\n",
       "    .dataframe thead th {\n",
       "        text-align: right;\n",
       "    }\n",
       "</style>\n",
       "<table border=\"1\" class=\"dataframe\">\n",
       "  <thead>\n",
       "    <tr style=\"text-align: right;\">\n",
       "      <th></th>\n",
       "      <th>series_id</th>\n",
       "      <th>year</th>\n",
       "      <th>value</th>\n",
       "    </tr>\n",
       "  </thead>\n",
       "  <tbody>\n",
       "    <tr>\n",
       "      <th>27</th>\n",
       "      <td>PRS30006011</td>\n",
       "      <td>2022</td>\n",
       "      <td>20.500</td>\n",
       "    </tr>\n",
       "    <tr>\n",
       "      <th>57</th>\n",
       "      <td>PRS30006012</td>\n",
       "      <td>2022</td>\n",
       "      <td>17.100</td>\n",
       "    </tr>\n",
       "    <tr>\n",
       "      <th>63</th>\n",
       "      <td>PRS30006013</td>\n",
       "      <td>1998</td>\n",
       "      <td>704.125</td>\n",
       "    </tr>\n",
       "    <tr>\n",
       "      <th>105</th>\n",
       "      <td>PRS30006021</td>\n",
       "      <td>2010</td>\n",
       "      <td>17.600</td>\n",
       "    </tr>\n",
       "    <tr>\n",
       "      <th>135</th>\n",
       "      <td>PRS30006022</td>\n",
       "      <td>2010</td>\n",
       "      <td>12.500</td>\n",
       "    </tr>\n",
       "    <tr>\n",
       "      <th>...</th>\n",
       "      <td>...</td>\n",
       "      <td>...</td>\n",
       "      <td>...</td>\n",
       "    </tr>\n",
       "    <tr>\n",
       "      <th>8130</th>\n",
       "      <td>PRS88003192</td>\n",
       "      <td>2002</td>\n",
       "      <td>282.800</td>\n",
       "    </tr>\n",
       "    <tr>\n",
       "      <th>8180</th>\n",
       "      <td>PRS88003193</td>\n",
       "      <td>2023</td>\n",
       "      <td>766.310</td>\n",
       "    </tr>\n",
       "    <tr>\n",
       "      <th>8208</th>\n",
       "      <td>PRS88003201</td>\n",
       "      <td>2022</td>\n",
       "      <td>36.100</td>\n",
       "    </tr>\n",
       "    <tr>\n",
       "      <th>8237</th>\n",
       "      <td>PRS88003202</td>\n",
       "      <td>2022</td>\n",
       "      <td>28.900</td>\n",
       "    </tr>\n",
       "    <tr>\n",
       "      <th>8267</th>\n",
       "      <td>PRS88003203</td>\n",
       "      <td>2023</td>\n",
       "      <td>582.496</td>\n",
       "    </tr>\n",
       "  </tbody>\n",
       "</table>\n",
       "<p>282 rows × 3 columns</p>\n",
       "</div>"
      ],
      "text/plain": [
       "              series_id  year    value\n",
       "27    PRS30006011        2022   20.500\n",
       "57    PRS30006012        2022   17.100\n",
       "63    PRS30006013        1998  704.125\n",
       "105   PRS30006021        2010   17.600\n",
       "135   PRS30006022        2010   12.500\n",
       "...                 ...   ...      ...\n",
       "8130  PRS88003192        2002  282.800\n",
       "8180  PRS88003193        2023  766.310\n",
       "8208  PRS88003201        2022   36.100\n",
       "8237  PRS88003202        2022   28.900\n",
       "8267  PRS88003203        2023  582.496\n",
       "\n",
       "[282 rows x 3 columns]"
      ]
     },
     "execution_count": 4,
     "metadata": {},
     "output_type": "execute_result"
    }
   ],
   "source": [
    "#Using the dataframe from the time-series (Part 1), \n",
    "#For every series_id, find the best year: the year with the max/largest sum of \"value\" \n",
    "#for all quarters in that year. Generate a report with each series id, the best year for that series, \n",
    "#and the summed value for that year.\n",
    "df_pr\n",
    "grouped = df_pr.groupby(['series_id', 'year', 'period'])['value'].sum().reset_index()\n",
    "\n",
    "# Group by series id and year again, and find the year with the maximum sum for each series\n",
    "best_years = grouped.groupby(['series_id', 'year'])['value'].sum().reset_index()\n",
    "best_years = best_years.loc[best_years.groupby('series_id')['value'].idxmax()]\n",
    "\n",
    "best_years[['series_id', 'year', 'value']]"
   ]
  }
 ],
 "metadata": {
  "kernelspec": {
   "display_name": "conda_python3",
   "language": "python",
   "name": "conda_python3"
  },
  "language_info": {
   "codemirror_mode": {
    "name": "ipython",
    "version": 3
   },
   "file_extension": ".py",
   "mimetype": "text/x-python",
   "name": "python",
   "nbconvert_exporter": "python",
   "pygments_lexer": "ipython3",
   "version": "3.10.14"
  }
 },
 "nbformat": 4,
 "nbformat_minor": 5
}
